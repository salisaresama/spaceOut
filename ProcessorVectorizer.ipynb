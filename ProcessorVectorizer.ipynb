{
 "cells": [
  {
   "cell_type": "markdown",
   "metadata": {},
   "source": [
    "## Check the Connection and the Number of Vectors"
   ]
  },
  {
   "cell_type": "code",
   "execution_count": 48,
   "metadata": {},
   "outputs": [
    {
     "name": "stdout",
     "output_type": "stream",
     "text": [
      "{'count': 6272, '_shards': {'total': 1, 'successful': 1, 'skipped': 0, 'failed': 0}}\n"
     ]
    }
   ],
   "source": [
    "from elasticsearch import Elasticsearch\n",
    "\n",
    "ES_SERVER = \"10.94.253.5\"\n",
    "\n",
    "index_doc = 'november2019'\n",
    "index_vec = 'recent_vectors'\n",
    "\n",
    "es = Elasticsearch(ES_SERVER)\n",
    "print(es.count(index=index_vec, body={'query': {'match_all': {}}}))"
   ]
  },
  {
   "cell_type": "markdown",
   "metadata": {},
   "source": [
    "## Define Queries and Embed them into the Same Vector Space"
   ]
  },
  {
   "cell_type": "code",
   "execution_count": 43,
   "metadata": {},
   "outputs": [],
   "source": [
    "from ProcessorVectorizer import Vectorizer\n",
    "\n",
    "vt = Vectorizer('muse', '../../models/muse')\n",
    "queries = ['Coronavirus prevention is important.', 'Data privacy was compromised.']\n",
    "query_vectors = vt.vectorize(queries)"
   ]
  },
  {
   "cell_type": "markdown",
   "metadata": {},
   "source": [
    "## View Results"
   ]
  },
  {
   "cell_type": "code",
   "execution_count": 53,
   "metadata": {},
   "outputs": [
    {
     "name": "stdout",
     "output_type": "stream",
     "text": [
      "Query text: Coronavirus prevention is important.\n",
      "Score: 1.4756657\n",
      "\n",
      "The estimated number of coronavirus deaths fluctuate depending on prior data. Current estimations in the US went up to a little less than 66,000 by August on Tuesday. Experts say these numbers depend on social distancing being maintained till then. States like Georgia recently announced lifts on their stay-at-home orders beginning this week. The exact revised death estimate of the impact of the coronavirus outbreak in the United States is 74,073.\n",
      "\n",
      "==================================================\n",
      "\n",
      "Query text: Data privacy was compromised.\n",
      "Score: 1.3049575\n",
      "\n",
      "Полиция задержала мошенников, которые продавали бесплатные цифровые пропуска. Бизнес подозреваемые наладили в мессенджере. Через канал предлагали получить цифровой пропуск для передвижения по Москве и области. У покупателя запрашивали паспортные данные и регистрационный номер машины. За свои услуги мошенники просили 3,5 тыс. рублей. После оплаты они переставали выходить на связь.\n",
      "\n",
      "==================================================\n",
      "\n"
     ]
    }
   ],
   "source": [
    "for query_text, query_vector in zip(queries, query_vectors):\n",
    "    # Perform the cosine similarity query\n",
    "    query = {\n",
    "        \"script_score\": {\n",
    "            \"query\": {\n",
    "                \"match_all\": {}\n",
    "            },\n",
    "            \"script\": {\n",
    "                \"source\": \"cosineSimilarity(params.query_vector, 'vector') + 1.0\",\n",
    "                \"params\": {\n",
    "                     \"query_vector\": query_vector\n",
    "                }\n",
    "            }\n",
    "        }\n",
    "    }\n",
    "\n",
    "    body = { \"query\": query, \"size\" : 100}\n",
    "    response = es.search(index=index_vec, body=body, request_timeout=120)\n",
    "\n",
    "    # Evaluate the search\n",
    "    if response['hits']['total']['value']:\n",
    "        _id = response['hits']['hits'][0]['_id']\n",
    "        _score = response['hits']['hits'][0]['_score']\n",
    "        text = es.get(index=index_doc, id=_id)['_source']['article']['maintext']\n",
    "        print(f'Query text: {query_text}\\nScore: {_score}\\n\\n{text}\\n\\n{\"=\" * 50}\\n')"
   ]
  }
 ],
 "metadata": {
  "kernelspec": {
   "display_name": "Python 3",
   "language": "python",
   "name": "python3"
  },
  "language_info": {
   "codemirror_mode": {
    "name": "ipython",
    "version": 3
   },
   "file_extension": ".py",
   "mimetype": "text/x-python",
   "name": "python",
   "nbconvert_exporter": "python",
   "pygments_lexer": "ipython3",
   "version": "3.7.6"
  }
 },
 "nbformat": 4,
 "nbformat_minor": 4
}
